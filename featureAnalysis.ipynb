{
 "cells": [
  {
   "cell_type": "code",
   "execution_count": 2,
   "metadata": {},
   "outputs": [
    {
     "name": "stdout",
     "output_type": "stream",
     "text": [
      "INFO: Pandarallel will run on 8 workers.\n",
      "INFO: Pandarallel will use standard multiprocessing data transfer (pipe) to transfer data between the main process and workers.\n"
     ]
    }
   ],
   "source": [
    "import pandas as pd\n",
    "import numpy as np\n",
    "import time\n",
    "import math\n",
    "# Pandarallelの準備\n",
    "from pandarallel import pandarallel\n",
    "pandarallel.initialize()\n",
    "\n",
    "#PRED_FILES = [\"gcbert.pred\", \"codet5_old.pred\", \"codebert.pred\"]\n",
    "PRED_FILES = [\"gcbert.pred\", \"codet5.pred\", \"codebert.pred\"]\n",
    "DATA_DIR = \"./raw_data/\"\n",
    "COMMENT_FILE= \"data.comment\"\n",
    "SOURCE_FILE = \"data.source\"\n",
    "TARGET_FILE = \"data.target\"\n",
    "\n",
    "COMMENT_PATHS = f\"{DATA_DIR}{COMMENT_FILE}\"\n",
    "DATA_SOURCE_PATH = f\"{DATA_DIR}{SOURCE_FILE}\"\n",
    "DATA_TARGET_PATH = f\"{DATA_DIR}{TARGET_FILE}\"\n",
    "PRED_FULL_PATHS = [f\"{DATA_DIR}{f}\" for f in PRED_FILES]"
   ]
  },
  {
   "cell_type": "code",
   "execution_count": 3,
   "metadata": {},
   "outputs": [
    {
     "name": "stderr",
     "output_type": "stream",
     "text": [
      "/var/folders/c0/b2qqsnx935n275qlt_fqz8300000gn/T/ipykernel_97942/3077703939.py:13: FutureWarning: As the xlwt package is no longer maintained, the xlwt engine will be removed in a future version of pandas. This is the only engine in pandas that supports writing in the xls format. Install openpyxl and write to an xlsx file instead. You can set the option io.excel.xls.writer to 'xlwt' to silence this warning. While this option is deprecated and will also raise a warning, it can be globally set and the warning suppressed.\n",
      "  dfs.to_excel(\"./data/data.xls\", index=False)\n"
     ]
    }
   ],
   "source": [
    "# read file per line and return dataframe and column name is filepath\n",
    "def read_file_per_line(path):\n",
    "    with open(path, \"r\") as f:\n",
    "        lines = f.readlines()\n",
    "        lines = [l.rstrip() for l in lines]\n",
    "        return pd.DataFrame(lines, columns=[path.split(\"/\")[-1]])\n",
    "# read all files and combine them and return dataframe\n",
    "def read_files(paths):\n",
    "    dfs = [read_file_per_line(p) for p in paths]\n",
    "    return pd.concat(dfs, axis=1)\n",
    "\n",
    "dfs = read_files([DATA_SOURCE_PATH, DATA_TARGET_PATH, COMMENT_PATHS, *PRED_FULL_PATHS, ] )\n",
    "dfs.to_excel(\"./data/data.xls\", index=False)"
   ]
  },
  {
   "cell_type": "code",
   "execution_count": 4,
   "metadata": {},
   "outputs": [
    {
     "name": "stdout",
     "output_type": "stream",
     "text": [
      "EMScore of gcbert.pred is 0.10296684118673648\n",
      "EMScore of codet5.pred is 0.04712041884816754\n",
      "EMScore of codebert.pred is 0.09307737056428156\n"
     ]
    }
   ],
   "source": [
    "# add columns for is_correct between target and pred columns\n",
    "def add_is_correct_column(df, pred_col):\n",
    "    df[f\"is_correct_{pred_col}\"] = (df[TARGET_FILE] == df[pred_col])\n",
    "    print(f\"EMScore of {pred_col} is {df[f'is_correct_{pred_col}'].sum() / len(df)}\")\n",
    "    return df\n",
    "for pred_col in PRED_FILES:\n",
    "    \n",
    "    dfs = add_is_correct_column(dfs, pred_col)\n"
   ]
  },
  {
   "cell_type": "code",
   "execution_count": 5,
   "metadata": {},
   "outputs": [
    {
     "name": "stdout",
     "output_type": "stream",
     "text": [
      "EMScore of gcbert.pred and codet5.pred is 0.33740546829552065\n",
      "EMScore of gcbert.pred and codebert.pred is 0.43339150668993603\n",
      "EMScore of codet5.pred and gcbert.pred is 0.33740546829552065\n",
      "EMScore of codet5.pred and codebert.pred is 0.3228621291448517\n",
      "EMScore of codebert.pred and gcbert.pred is 0.43339150668993603\n",
      "EMScore of codebert.pred and codet5.pred is 0.3228621291448517\n"
     ]
    }
   ],
   "source": [
    "# calc is_correct between each preds\n",
    "def add_is_correct_between_preds(df):\n",
    "    for pred_col in PRED_FILES:\n",
    "        for pred_col2 in PRED_FILES:\n",
    "            if pred_col == pred_col2:\n",
    "                continue\n",
    "            df[f\"em_{pred_col}_and_{pred_col2}\"] =  (df[pred_col] == df[pred_col2])\n",
    "            print(f\"EMScore of {pred_col} and {pred_col2} is {df[f'em_{pred_col}_and_{pred_col2}'].sum() / len(df)}\")\n",
    "    return df\n",
    "dfs = add_is_correct_between_preds(dfs)"
   ]
  },
  {
   "cell_type": "code",
   "execution_count": 6,
   "metadata": {},
   "outputs": [
    {
     "name": "stdout",
     "output_type": "stream",
     "text": [
      "Number of all_correct:  35\n",
      "Sum of correct only gcbert: 73\n",
      "Sum of correct only codet5: 25\n",
      "Sum of correct only codebert: 51\n",
      "Sum of incorrect only gcbert: 13\n",
      "Sum of incorrect only codet5: 61\n",
      "Sum of incorrect only codebert: 8\n",
      "Sum of all_incorrect: 1453\n"
     ]
    },
    {
     "name": "stderr",
     "output_type": "stream",
     "text": [
      "/var/folders/c0/b2qqsnx935n275qlt_fqz8300000gn/T/ipykernel_97942/1222341432.py:7: FutureWarning: As the xlwt package is no longer maintained, the xlwt engine will be removed in a future version of pandas. This is the only engine in pandas that supports writing in the xls format. Install openpyxl and write to an xlsx file instead. You can set the option io.excel.xls.writer to 'xlwt' to silence this warning. While this option is deprecated and will also raise a warning, it can be globally set and the warning suppressed.\n",
      "  dfs[dfs[\"all_correct\"]].loc[:,[\"data.source\", \"data.target\", \"data.comment\"]].to_excel(\"./data/all_correct.xls\", index=False)\n",
      "/var/folders/c0/b2qqsnx935n275qlt_fqz8300000gn/T/ipykernel_97942/1222341432.py:10: FutureWarning: As the xlwt package is no longer maintained, the xlwt engine will be removed in a future version of pandas. This is the only engine in pandas that supports writing in the xls format. Install openpyxl and write to an xlsx file instead. You can set the option io.excel.xls.writer to 'xlwt' to silence this warning. While this option is deprecated and will also raise a warning, it can be globally set and the warning suppressed.\n",
      "  dfs[dfs[\"is_correct_only_gcbert\"] ].loc[:,[\"data.source\", \"data.target\", \"data.comment\", \"codebert.pred\", \"codet5.pred\"]].to_excel(\"./data/is_correct_only_gcbert.xls\", index=False)\n",
      "/var/folders/c0/b2qqsnx935n275qlt_fqz8300000gn/T/ipykernel_97942/1222341432.py:13: FutureWarning: As the xlwt package is no longer maintained, the xlwt engine will be removed in a future version of pandas. This is the only engine in pandas that supports writing in the xls format. Install openpyxl and write to an xlsx file instead. You can set the option io.excel.xls.writer to 'xlwt' to silence this warning. While this option is deprecated and will also raise a warning, it can be globally set and the warning suppressed.\n",
      "  dfs[dfs[\"is_correct_only_codet5\"] ].loc[:,[\"data.source\", \"data.target\", \"data.comment\", \"codebert.pred\", \"gcbert.pred\"]].to_excel(\"./data/is_correct_only_codet5.xls\", index=False)\n",
      "/var/folders/c0/b2qqsnx935n275qlt_fqz8300000gn/T/ipykernel_97942/1222341432.py:16: FutureWarning: As the xlwt package is no longer maintained, the xlwt engine will be removed in a future version of pandas. This is the only engine in pandas that supports writing in the xls format. Install openpyxl and write to an xlsx file instead. You can set the option io.excel.xls.writer to 'xlwt' to silence this warning. While this option is deprecated and will also raise a warning, it can be globally set and the warning suppressed.\n",
      "  dfs[dfs[\"is_correct_only_codebert\"] ].loc[:,[\"data.source\", \"data.target\", \"data.comment\", \"codet5.pred\", \"gcbert.pred\"]].to_excel(\"./data/is_correct_only_codebert.xls\", index=False)\n",
      "/var/folders/c0/b2qqsnx935n275qlt_fqz8300000gn/T/ipykernel_97942/1222341432.py:20: FutureWarning: As the xlwt package is no longer maintained, the xlwt engine will be removed in a future version of pandas. This is the only engine in pandas that supports writing in the xls format. Install openpyxl and write to an xlsx file instead. You can set the option io.excel.xls.writer to 'xlwt' to silence this warning. While this option is deprecated and will also raise a warning, it can be globally set and the warning suppressed.\n",
      "  dfs[dfs[\"is_incorrect_only_gcbert\"] ].loc[:,[\"data.source\", \"data.target\", \"data.comment\", \"gcbert.pred\"]].to_excel(\"./data/is_incorrect_only_gcbert.xls\", index=False)\n",
      "/var/folders/c0/b2qqsnx935n275qlt_fqz8300000gn/T/ipykernel_97942/1222341432.py:24: FutureWarning: As the xlwt package is no longer maintained, the xlwt engine will be removed in a future version of pandas. This is the only engine in pandas that supports writing in the xls format. Install openpyxl and write to an xlsx file instead. You can set the option io.excel.xls.writer to 'xlwt' to silence this warning. While this option is deprecated and will also raise a warning, it can be globally set and the warning suppressed.\n",
      "  dfs[dfs[\"is_incorrect_only_codet5\"] ].loc[:,[\"data.source\", \"data.target\", \"data.comment\", \"codet5.pred\"]].to_excel(\"./data/is_incorrect_only_codet5.xls\", index=False)\n",
      "/var/folders/c0/b2qqsnx935n275qlt_fqz8300000gn/T/ipykernel_97942/1222341432.py:28: FutureWarning: As the xlwt package is no longer maintained, the xlwt engine will be removed in a future version of pandas. This is the only engine in pandas that supports writing in the xls format. Install openpyxl and write to an xlsx file instead. You can set the option io.excel.xls.writer to 'xlwt' to silence this warning. While this option is deprecated and will also raise a warning, it can be globally set and the warning suppressed.\n",
      "  dfs[dfs[\"is_incorrect_only_codebert\"] ].loc[:,[\"data.source\", \"data.target\", \"data.comment\", \"codebert.pred\"]].to_excel(\"./data/is_incorrect_only_codebert.xls\", index=False)\n",
      "/var/folders/c0/b2qqsnx935n275qlt_fqz8300000gn/T/ipykernel_97942/1222341432.py:33: FutureWarning: As the xlwt package is no longer maintained, the xlwt engine will be removed in a future version of pandas. This is the only engine in pandas that supports writing in the xls format. Install openpyxl and write to an xlsx file instead. You can set the option io.excel.xls.writer to 'xlwt' to silence this warning. While this option is deprecated and will also raise a warning, it can be globally set and the warning suppressed.\n",
      "  dfs[dfs[\"all_incorrect\"] ].loc[:,[\"data.source\", \"data.target\", \"data.comment\", \"codebert.pred\"]].to_excel(\"./data/all_incorrect.xls\", index=False)\n"
     ]
    }
   ],
   "source": [
    "# add columns of all_correct for all is_correct columns\n",
    "def add_all_correct_column(df):\n",
    "    df[\"all_correct\"] = df[[f\"is_correct_{pred_col}\" for pred_col in PRED_FILES]].all(axis=1)\n",
    "    print(\"Number of all_correct: \", df[\"all_correct\"].sum())\n",
    "    return df\n",
    "dfs = add_all_correct_column(dfs)\n",
    "dfs[dfs[\"all_correct\"]].loc[:,[\"data.source\", \"data.target\", \"data.comment\"]].to_excel(\"./data/all_correct.xls\", index=False)\n",
    "\n",
    "dfs[\"is_correct_only_gcbert\"] = dfs[\"is_correct_gcbert.pred\"] & ~dfs[\"is_correct_codet5.pred\"] & ~dfs[\"is_correct_codebert.pred\"]\n",
    "dfs[dfs[\"is_correct_only_gcbert\"] ].loc[:,[\"data.source\", \"data.target\", \"data.comment\", \"codebert.pred\", \"codet5.pred\"]].to_excel(\"./data/is_correct_only_gcbert.xls\", index=False)\n",
    "print(\"Sum of correct only gcbert: \" + str(sum(dfs[\"is_correct_only_gcbert\"])))\n",
    "dfs[\"is_correct_only_codet5\"] = dfs[\"is_correct_codet5.pred\"] & ~dfs[\"is_correct_gcbert.pred\"] & ~dfs[\"is_correct_codebert.pred\"]\n",
    "dfs[dfs[\"is_correct_only_codet5\"] ].loc[:,[\"data.source\", \"data.target\", \"data.comment\", \"codebert.pred\", \"gcbert.pred\"]].to_excel(\"./data/is_correct_only_codet5.xls\", index=False)\n",
    "print(\"Sum of correct only codet5: \" + str(sum(dfs[\"is_correct_only_codet5\"])))\n",
    "dfs[\"is_correct_only_codebert\"] = dfs[\"is_correct_codebert.pred\"] & ~dfs[\"is_correct_codet5.pred\"] & ~dfs[\"is_correct_gcbert.pred\"]\n",
    "dfs[dfs[\"is_correct_only_codebert\"] ].loc[:,[\"data.source\", \"data.target\", \"data.comment\", \"codet5.pred\", \"gcbert.pred\"]].to_excel(\"./data/is_correct_only_codebert.xls\", index=False)\n",
    "print(\"Sum of correct only codebert: \" + str(sum(dfs[\"is_correct_only_codebert\"])))\n",
    "\n",
    "dfs[\"is_incorrect_only_gcbert\"] = ~dfs[\"is_correct_gcbert.pred\"] & dfs[\"is_correct_codet5.pred\"] & dfs[\"is_correct_codebert.pred\"]\n",
    "dfs[dfs[\"is_incorrect_only_gcbert\"] ].loc[:,[\"data.source\", \"data.target\", \"data.comment\", \"gcbert.pred\"]].to_excel(\"./data/is_incorrect_only_gcbert.xls\", index=False)\n",
    "print(\"Sum of incorrect only gcbert: \" + str(sum(dfs[\"is_incorrect_only_gcbert\"])))\n",
    "\n",
    "dfs[\"is_incorrect_only_codet5\"] = dfs[\"is_correct_gcbert.pred\"] & ~dfs[\"is_correct_codet5.pred\"] & dfs[\"is_correct_codebert.pred\"]\n",
    "dfs[dfs[\"is_incorrect_only_codet5\"] ].loc[:,[\"data.source\", \"data.target\", \"data.comment\", \"codet5.pred\"]].to_excel(\"./data/is_incorrect_only_codet5.xls\", index=False)\n",
    "print(\"Sum of incorrect only codet5: \" + str(sum(dfs[\"is_incorrect_only_codet5\"])))\n",
    "\n",
    "dfs[\"is_incorrect_only_codebert\"] = dfs[\"is_correct_gcbert.pred\"] & dfs[\"is_correct_codet5.pred\"] & ~dfs[\"is_correct_codebert.pred\"]\n",
    "dfs[dfs[\"is_incorrect_only_codebert\"] ].loc[:,[\"data.source\", \"data.target\", \"data.comment\", \"codebert.pred\"]].to_excel(\"./data/is_incorrect_only_codebert.xls\", index=False)\n",
    "print(\"Sum of incorrect only codebert: \" + str(sum(dfs[\"is_incorrect_only_codebert\"])))\n",
    "\n",
    "\n",
    "dfs[\"all_incorrect\"] = ~dfs[\"is_correct_gcbert.pred\"] & ~dfs[\"is_correct_codet5.pred\"] & ~dfs[\"is_correct_codebert.pred\"]\n",
    "dfs[dfs[\"all_incorrect\"] ].loc[:,[\"data.source\", \"data.target\", \"data.comment\", \"codebert.pred\"]].to_excel(\"./data/all_incorrect.xls\", index=False)\n",
    "print(\"Sum of all_incorrect: \" + str(sum(dfs[\"all_incorrect\"])))\n"
   ]
  },
  {
   "cell_type": "code",
   "execution_count": 7,
   "metadata": {},
   "outputs": [
    {
     "name": "stdout",
     "output_type": "stream",
     "text": [
      "Average source length: 56.290285049447355\n",
      "Average target length: 48.239674229203025\n",
      "Average comment length: 10.18499127399651\n"
     ]
    }
   ],
   "source": [
    "dfs[\"source_length\"] = dfs[\"data.source\"].apply(lambda x: len(x.split(\" \")))\n",
    "print(\"Average source length: \" + str(dfs[\"source_length\"].mean()))\n",
    "dfs[\"target_length\"] = dfs[\"data.target\"].apply(lambda x: len(x.split(\" \")))\n",
    "print(\"Average target length: \" + str(dfs[\"target_length\"].mean()))\n",
    "dfs[\"comment_length\"] = dfs[\"data.comment\"].apply(lambda x: len(x.split(\" \")))\n",
    "print(\"Average comment length: \" + str(dfs[\"comment_length\"].mean()))\n"
   ]
  },
  {
   "cell_type": "code",
   "execution_count": 8,
   "metadata": {},
   "outputs": [
    {
     "name": "stdout",
     "output_type": "stream",
     "text": [
      "Average data.source word count: 56.290285049447355\n",
      "Average data.target word count: 48.239674229203025\n",
      "Average gcbert.pred word count: 50.35194880744619\n",
      "Average codet5.pred word count: 52.41652123327516\n",
      "Average codebert.pred word count: 50.82838859802211\n"
     ]
    }
   ],
   "source": [
    "# count words in source, target, gcbert.pred, codet5.pred, codebert.pred\n",
    "def count_words(df):\n",
    "    for col in [\"data.source\", \"data.target\", \"gcbert.pred\", \"codet5.pred\", \"codebert.pred\"]:\n",
    "        df[f\"{col}_word_count\"] = df[col].apply(lambda x: len(x.split(\" \")))\n",
    "        print(f\"Average {col} word count: \" + str(df[f\"{col}_word_count\"].mean()))\n",
    "    return df\n",
    "dfs = count_words(dfs)"
   ]
  },
  {
   "cell_type": "code",
   "execution_count": 9,
   "metadata": {},
   "outputs": [],
   "source": [
    "# create histgram from collections counter\n",
    "import matplotlib.pyplot as plt\n",
    "import japanize_matplotlib\n",
    "def create_histgram(c, col_name):\n",
    "    c = c.most_common(10)\n",
    "    plt.bar([v[0] for v in c ], [v[1] for v in c ])\n",
    "    \n",
    "    plt.xticks(rotation=45)\n",
    "    plt.xlabel(\"登場単語\")\n",
    "    plt.ylabel(\"登場回数\")\n",
    "    plt.savefig(f\"./data/{col_name}_word_count_histgram.pdf\")\n",
    "    plt.show()\n",
    "    plt.close()"
   ]
  },
  {
   "cell_type": "code",
   "execution_count": 10,
   "metadata": {},
   "outputs": [
    {
     "name": "stdout",
     "output_type": "stream",
     "text": [
      "Most common words in data.source:\n"
     ]
    },
    {
     "data": {
      "image/png": "[encoded data removed]",
      "text/plain": [
       "<Figure size 432x288 with 1 Axes>"
      ]
     },
     "metadata": {
      "needs_background": "light"
     },
     "output_type": "display_data"
    },
    {
     "name": "stdout",
     "output_type": "stream",
     "text": [
      "Most common words in data.target:\n"
     ]
    },
    {
     "data": {
      "image/png": "[encoded data removed]",
      "text/plain": [
       "<Figure size 432x288 with 1 Axes>"
      ]
     },
     "metadata": {
      "needs_background": "light"
     },
     "output_type": "display_data"
    },
    {
     "name": "stdout",
     "output_type": "stream",
     "text": [
      "Most common words in gcbert.pred:\n"
     ]
    },
    {
     "data": {
      "image/png": "[encoded data removed]",
      "text/plain": [
       "<Figure size 432x288 with 1 Axes>"
      ]
     },
     "metadata": {
      "needs_background": "light"
     },
     "output_type": "display_data"
    },
    {
     "name": "stdout",
     "output_type": "stream",
     "text": [
      "Most common words in codet5.pred:\n"
     ]
    },
    {
     "data": {
      "image/png": "[encoded data removed]",
      "text/plain": [
       "<Figure size 432x288 with 1 Axes>"
      ]
     },
     "metadata": {
      "needs_background": "light"
     },
     "output_type": "display_data"
    },
    {
     "name": "stdout",
     "output_type": "stream",
     "text": [
      "Most common words in codebert.pred:\n"
     ]
    },
    {
     "data": {
      "image/png": "[encoded data removed]",
      "text/plain": [
       "<Figure size 432x288 with 1 Axes>"
      ]
     },
     "metadata": {
      "needs_background": "light"
     },
     "output_type": "display_data"
    }
   ],
   "source": [
    "# output most common words in source, target, gcbert.pred, codet5.pred, codebert.pred and create histgram\n",
    "COLUMNS = [\"入力データでの\", \"出力データ\", \"gcbert予測\", \"codet5予測\", \"codebert予測\"]\n",
    "from collections import Counter\n",
    "def most_common_words(df):\n",
    "    for i, col in enumerate([\"data.source\", \"data.target\", \"gcbert.pred\", \"codet5.pred\", \"codebert.pred\"]):\n",
    "        print(f\"Most common words in {col}:\")\n",
    "        create_histgram(Counter(\" \".join(df[col]).split(\" \")), COLUMNS[i])\n",
    "most_common_words(dfs) "
   ]
  },
  {
   "cell_type": "code",
   "execution_count": 18,
   "metadata": {},
   "outputs": [
    {
     "name": "stdout",
     "output_type": "stream",
     "text": [
      "public TYPE_8 ( TYPE_1 VAR_2 , TYPE_2 VAR_3 ) { this . VAR_4 = VAR_2 . METHOD_1 ( ) ; this . VAR_3 = VAR_3 ; }\n",
      "public TYPE_8 ( TYPE_1 VAR_2 , TYPE_2 VAR_3 ) { this . VAR_4 = VAR_2 . METHOD_1 ( ) ; this . VAR_3 = VAR_3 ; <START> VAR_5 = VAR_6 . VAR_7 . TYPE_7 . METHOD_2 ( new TYPE_4 . TYPE_5 . action . TYPE_6 ( STRING_1 ) ) ; <END> }\n"
     ]
    }
   ],
   "source": [
    "# add column that delete words between <START> and <END> from source\n",
    "STARTTAG = \"<START>\"\n",
    "ENDTAG = \"<END>\"\n",
    "def delete_words_between_start_and_end(df):\n",
    "    df[\"data.source_without_start_end\"] = df[\"data.source\"].apply(lambda x: x.replace(\" \".join(x.split(\" \")[x.split(\" \").index(STARTTAG):x.split(\" \").index(ENDTAG)+1]) + \" \", \"\"))\n",
    "    return df\n",
    "dfs = delete_words_between_start_and_end(dfs)\n",
    "print(dfs.loc[1,\"data.source_without_start_end\"])\n",
    "print(dfs.loc[1, \"data.source\"])"
   ]
  },
  {
   "cell_type": "code",
   "execution_count": 31,
   "metadata": {},
   "outputs": [
    {
     "name": "stdout",
     "output_type": "stream",
     "text": [
      "Sum of is_same_delete_tag_data.target: 144\n",
      "Sum of is_same_delete_tag_gcbert.pred: 55\n",
      "Sum of is_same_delete_tag_codet5.pred: 44\n",
      "Sum of is_same_delete_tag_codebert.pred: 57\n"
     ]
    }
   ],
   "source": [
    "# add column is same source without start and end and pred columns\n",
    "def is_same_source_without_start_and_end_and_pred(df):\n",
    "    for col in [\"data.target\", \"gcbert.pred\", \"codet5.pred\", \"codebert.pred\"]:\n",
    "        df[\"is_same_delete_tag_\" + col] = df[\"data.source_without_start_end\"] == df[col]\n",
    "        print(\"Sum of is_same_delete_tag_\" + col + \": \" + str(sum(df[\"is_same_delete_tag_\" + col])))\n",
    "    return df\n",
    "dfs = is_same_source_without_start_and_end_and_pred(dfs)\n"
   ]
  },
  {
   "cell_type": "code",
   "execution_count": 35,
   "metadata": {},
   "outputs": [
    {
     "name": "stdout",
     "output_type": "stream",
     "text": [
      "Sum of is_same_delete_tag_gcbert.pred_and_target_true: 33\n",
      "Sum of is_same_delete_tag_codet5.pred_and_target_true: 21\n",
      "Sum of is_same_delete_tag_codebert.pred_and_target_true: 36\n"
     ]
    }
   ],
   "source": [
    "# count is_same_delete_tag columns is true and data.target is also true\n",
    "def count_is_same_delete_tag_and_target_true(df):\n",
    "    for col in [\"gcbert.pred\", \"codet5.pred\", \"codebert.pred\"]:\n",
    "        df[\"is_same_delete_tag_\" + col + \"_and_target_true\"] = df[\"is_same_delete_tag_\" + col] & df[\"is_same_delete_tag_data.target\"]\n",
    "        print(\"Sum of is_same_delete_tag_\" + col + \"_and_target_true: \" + str(sum(df[\"is_same_delete_tag_\" + col + \"_and_target_true\"])))\n",
    "    return df\n",
    "dfs = count_is_same_delete_tag_and_target_true(dfs)"
   ]
  },
  {
   "cell_type": "code",
   "execution_count": 25,
   "metadata": {},
   "outputs": [
    {
     "name": "stdout",
     "output_type": "stream",
     "text": [
      "Sum of is_same_delete_identifier_data.target: 238\n",
      "Sum of is_same_delete_identifier_gcbert.pred: 34\n",
      "Sum of is_same_delete_identifier_codet5.pred: 26\n",
      "Sum of is_same_delete_identifier_codebert.pred: 31\n"
     ]
    }
   ],
   "source": [
    "# \n",
    "IDENTIFIERS = [\"private\", \"public\", \"static\", \"protect\"]\n",
    "\n",
    "def delete_identifier(df):\n",
    "    \n",
    "    df[\"delete_identifier\"] = df[\"data.target\"].apply(lambda x: x.replace(\"private\", \"\").replace(\"public\", \"\").replace(\"static\", \"\").replace(\"private\", \"\"))\n",
    "    for col in [\"data.target\", \"gcbert.pred\", \"codet5.pred\", \"codebert.pred\"]:\n",
    "        df[\"is_same_delete_identifier_\" + col] = df[\"delete_identifier\"] == df[col].apply(lambda x: x.replace(\"private \", \"\").replace(\"public \", \"\").replace(\"static \", \"\").replace(\"private \", \"\"))\n",
    "        print(\"Sum of is_same_delete_identifier_\" + col + \": \" + str(sum(df[\"is_same_delete_identifier_\" + col])))\n",
    "    return df\n",
    "dfs = delete_identifier(dfs)"
   ]
  },
  {
   "cell_type": "code",
   "execution_count": 37,
   "metadata": {},
   "outputs": [
    {
     "name": "stdout",
     "output_type": "stream",
     "text": [
      "Sum of is_same_delete_identifier_gcbert.pred_and_target_true: 2\n",
      "Sum of is_same_delete_identifier_codet5.pred_and_target_true: 3\n",
      "Sum of is_same_delete_identifier_codebert.pred_and_target_true: 3\n"
     ]
    }
   ],
   "source": [
    "# count is_same_delete_identifier columns is true and data.target is also true\n",
    "def count_is_same_delete_identifier_and_target_true(df):\n",
    "    for col in [\"gcbert.pred\", \"codet5.pred\", \"codebert.pred\"]:\n",
    "        df[\"is_same_delete_identifier_\" + col + \"_and_target_true\"] = df[\"is_same_delete_identifier_\" + col] & df[\"is_same_delete_tag_data.target\"]\n",
    "        print(\"Sum of is_same_delete_identifier_\" + col + \"_and_target_true: \" + str(sum(df[\"is_same_delete_identifier_\" + col + \"_and_target_true\"])))\n",
    "    return df\n",
    "dfs = count_is_same_delete_identifier_and_target_true(dfs)"
   ]
  },
  {
   "cell_type": "code",
   "execution_count": 21,
   "metadata": {},
   "outputs": [
    {
     "name": "stderr",
     "output_type": "stream",
     "text": [
      "/var/folders/c0/b2qqsnx935n275qlt_fqz8300000gn/T/ipykernel_59622/2217403306.py:2: FutureWarning: As the xlwt package is no longer maintained, the xlwt engine will be removed in a future version of pandas. This is the only engine in pandas that supports writing in the xls format. Install openpyxl and write to an xlsx file instead. You can set the option io.excel.xls.writer to 'xlwt' to silence this warning. While this option is deprecated and will also raise a warning, it can be globally set and the warning suppressed.\n",
      "  dfs.to_excel(\"./data/all.xls\", index=False)\n"
     ]
    }
   ],
   "source": [
    "# output xls file\n",
    "dfs.to_excel(\"./data/all.xls\", index=False)"
   ]
  },
  {
   "cell_type": "code",
   "execution_count": null,
   "metadata": {},
   "outputs": [],
   "source": [
    "# count"
   ]
  }
 ],
 "metadata": {
  "kernelspec": {
   "display_name": "code2seq_pytorch-8rO2Scl4",
   "language": "python",
   "name": "python3"
  },
  "language_info": {
   "codemirror_mode": {
    "name": "ipython",
    "version": 3
   },
   "file_extension": ".py",
   "mimetype": "text/x-python",
   "name": "python",
   "nbconvert_exporter": "python",
   "pygments_lexer": "ipython3",
   "version": "3.8.9"
  },
  "orig_nbformat": 4,
  "vscode": {
   "interpreter": {
    "hash": "0a126fdec72c602ed1945f08a52748dd7e00d0d37dca84bb060ede0990d2fb6f"
   }
  }
 },
 "nbformat": 4,
 "nbformat_minor": 2
}
